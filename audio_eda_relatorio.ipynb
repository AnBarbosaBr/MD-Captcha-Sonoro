{
 "cells": [
  {
   "cell_type": "code",
   "execution_count": 1,
   "metadata": {},
   "outputs": [],
   "source": [
    "# Importings base libraries\n",
    "import os;\n",
    "import pandas as pd; \n",
    "import numpy as np;\n",
    "import librosa;\n",
    "import librosa.display\n",
    "import IPython.display as ipd\n",
    "import matplotlib.pyplot as plt\n",
    "%matplotlib inline\n",
    "\n",
    "# Models\n",
    "import sklearn.model_selection # train_test_split\n",
    "import sklearn.discriminant_analysis # LinearDiscriminantAnalysis\n",
    "import sklearn.naive_bayes  # GaussianNB\n",
    "\n",
    "seed = 42"
   ]
  },
  {
   "cell_type": "code",
   "execution_count": 2,
   "metadata": {},
   "outputs": [],
   "source": [
    "# Working with data - Those functions are helpers to work with the final DataFrame\n",
    "\n",
    "def get_audio_and_sampling_rate_from_df(df, row_index, asNumpyArray = True ):\n",
    "    data, sampling_rate, label = get_data_sample_rate_and_legend_from_df(df, row_index, asNumpyArray)\n",
    "    return(data, sampling_rate)\n",
    "\n",
    "def get_data_sampling_rate_and_legend_from_df(df, row_index, asNumpyArray = True):\n",
    "    data = df.iloc[ row_index , df.columns.get_loc(0): ].astype('float64')\n",
    "    if(asNumpyArray):\n",
    "        data = data.values\n",
    "    sample_rate = df.loc[: , \"sr\"].iloc[row_index]\n",
    "    label = df.loc[ : , 'label'].iloc[row_index]\n",
    "    return(data, sample_rate, label)\n",
    "    \n",
    "def show_data(df, row):\n",
    "    # Retrieve information from DF\n",
    "    audio_data, sampling_rate, label = get_data_sample_rate_and_legend_from_df(df, row)\n",
    "    \n",
    "    # Print some stats and display the sound\n",
    "    print(f\"{label}({librosa.get_duration(audio_data, sr=sampling_rate)} sec)\")\n",
    "    ipd.display(ipd.Audio(audio_data, rate=sampling_rate))\n",
    "    \n",
    "    print(\"\\n\")\n",
    "    # Make plots\n",
    "    X = librosa.stft(audio_data)\n",
    "    Xdb = librosa.amplitude_to_db(abs(X))\n",
    "\n",
    "    plt.figure(figsize=(8, 16), dpi= 80, facecolor='w', edgecolor='k')\n",
    "\n",
    "    plt.subplot(3, 1, 1)\n",
    "    plt.title(\"Wave\")\n",
    "    librosa.display.waveplot(audio_data, sr=sampling_rate, x_axis=\"time\")\n",
    "\n",
    "    plt.subplot(3, 1, 2)\n",
    "    plt.title(\"MEL\")\n",
    "    librosa.display.specshow(Xdb, sr=sampling_rate, x_axis=\"time\", y_axis=\"mel\")\n",
    "\n",
    "    plt.subplot(3, 1, 3)\n",
    "    plt.title(\"HZ\")\n",
    "    librosa.display.specshow(Xdb, sr=sampling_rate, x_axis=\"time\", y_axis=\"hz\")\n",
    "\n",
    "    print(\"Audio\")\n",
    "    ipd.Audio(audio_data, rate = sampling_rate)"
   ]
  },
  {
   "cell_type": "code",
   "execution_count": 3,
   "metadata": {},
   "outputs": [],
   "source": [
    "# Will read from the pickle file - use ingestion when ready\n",
    "training_data_path   = os.path.join(\".\",\"dados\",\"training_data.pickle\")\n",
    "validation_data_path = os.path.join(\".\",\"dados\",\"validation_data.pickle\")"
   ]
  },
  {
   "cell_type": "code",
   "execution_count": 4,
   "metadata": {},
   "outputs": [],
   "source": [
    "# Will read only part of the data\n",
    "training = pd.read_pickle(training_data_path)"
   ]
  },
  {
   "cell_type": "code",
   "execution_count": 5,
   "metadata": {
    "scrolled": true
   },
   "outputs": [
    {
     "data": {
      "text/plain": [
       "(1414, 88204)"
      ]
     },
     "execution_count": 5,
     "metadata": {},
     "output_type": "execute_result"
    }
   ],
   "source": [
    "training.shape"
   ]
  },
  {
   "cell_type": "code",
   "execution_count": 58,
   "metadata": {},
   "outputs": [
    {
     "name": "stdout",
     "output_type": "stream",
     "text": [
      "Shape: (1414, 88204) \n",
      "Número de Audios: 1414 \n",
      "Número de Audios/4: 353.5\n",
      "Numero De Arquivos Lidos: 356\n",
      "Numero De Audios Esperados: 1424\n",
      "Diferença Entre número de Arquivos: 10\n",
      "Diferença % Entre número de Arquivos: 0.71%\n",
      "Sample Rates: [44100]\n"
     ]
    }
   ],
   "source": [
    "print(f\"Shape: {training.shape} \\n\"+\n",
    "      f\"Número de Audios: {training.shape[0]} \\n\"+\n",
    "      f\"Número de Audios/4: {training.shape[0]/4}\\n\" +\n",
    "      f\"Numero De Arquivos Lidos: {len(training.original_file.unique())}\\n\"+\n",
    "      f\"Numero De Audios Esperados: {4 * len(training.original_file.unique())}\\n\"+\n",
    "      f\"Diferença Entre número de Arquivos: { 4 * len(training.original_file.unique()) - training.shape[0]}\\n\"+\n",
    "      f\"Diferença % Entre número de Arquivos: { 100*(4 * len(training.original_file.unique()) - training.shape[0])/training.shape[0] :.2f}%\\n\"+\n",
    "      f\"Sample Rates: {training.sr.unique()}\")\n"
   ]
  },
  {
   "cell_type": "code",
   "execution_count": 33,
   "metadata": {},
   "outputs": [
    {
     "data": {
      "text/plain": [
       "mdn6    3\n",
       "7x6a    3\n",
       "6add    3\n",
       "cdbd    3\n",
       "ca7m    3\n",
       "xbnb    3\n",
       "dhcd    3\n",
       "haa6    3\n",
       "xxxm    3\n",
       "cdbc    3\n",
       "Name: original_file, dtype: int64"
      ]
     },
     "execution_count": 33,
     "metadata": {},
     "output_type": "execute_result"
    }
   ],
   "source": [
    "contagem_audios = training[\"original_file\"].value_counts()\n",
    "contagem_audios[contagem_audios != 4]"
   ]
  },
  {
   "cell_type": "code",
   "execution_count": 43,
   "metadata": {
    "scrolled": true
   },
   "outputs": [
    {
     "data": {
      "text/html": [
       "<div>\n",
       "<style scoped>\n",
       "    .dataframe tbody tr th:only-of-type {\n",
       "        vertical-align: middle;\n",
       "    }\n",
       "\n",
       "    .dataframe tbody tr th {\n",
       "        vertical-align: top;\n",
       "    }\n",
       "\n",
       "    .dataframe thead th {\n",
       "        text-align: right;\n",
       "    }\n",
       "</style>\n",
       "<table border=\"1\" class=\"dataframe\">\n",
       "  <thead>\n",
       "    <tr style=\"text-align: right;\">\n",
       "      <th></th>\n",
       "      <th>label</th>\n",
       "      <th>original_file</th>\n",
       "    </tr>\n",
       "  </thead>\n",
       "  <tbody>\n",
       "    <tr>\n",
       "      <th>48</th>\n",
       "      <td>6</td>\n",
       "      <td>6add</td>\n",
       "    </tr>\n",
       "    <tr>\n",
       "      <th>49</th>\n",
       "      <td>a</td>\n",
       "      <td>6add</td>\n",
       "    </tr>\n",
       "    <tr>\n",
       "      <th>50</th>\n",
       "      <td>d</td>\n",
       "      <td>6add</td>\n",
       "    </tr>\n",
       "    <tr>\n",
       "      <th>291</th>\n",
       "      <td>7</td>\n",
       "      <td>7x6a</td>\n",
       "    </tr>\n",
       "    <tr>\n",
       "      <th>292</th>\n",
       "      <td>x</td>\n",
       "      <td>7x6a</td>\n",
       "    </tr>\n",
       "    <tr>\n",
       "      <th>293</th>\n",
       "      <td>6</td>\n",
       "      <td>7x6a</td>\n",
       "    </tr>\n",
       "    <tr>\n",
       "      <th>586</th>\n",
       "      <td>c</td>\n",
       "      <td>ca7m</td>\n",
       "    </tr>\n",
       "    <tr>\n",
       "      <th>587</th>\n",
       "      <td>a</td>\n",
       "      <td>ca7m</td>\n",
       "    </tr>\n",
       "    <tr>\n",
       "      <th>588</th>\n",
       "      <td>7</td>\n",
       "      <td>ca7m</td>\n",
       "    </tr>\n",
       "    <tr>\n",
       "      <th>629</th>\n",
       "      <td>c</td>\n",
       "      <td>cdbc</td>\n",
       "    </tr>\n",
       "    <tr>\n",
       "      <th>630</th>\n",
       "      <td>d</td>\n",
       "      <td>cdbc</td>\n",
       "    </tr>\n",
       "    <tr>\n",
       "      <th>631</th>\n",
       "      <td>b</td>\n",
       "      <td>cdbc</td>\n",
       "    </tr>\n",
       "    <tr>\n",
       "      <th>632</th>\n",
       "      <td>c</td>\n",
       "      <td>cdbd</td>\n",
       "    </tr>\n",
       "    <tr>\n",
       "      <th>633</th>\n",
       "      <td>d</td>\n",
       "      <td>cdbd</td>\n",
       "    </tr>\n",
       "    <tr>\n",
       "      <th>634</th>\n",
       "      <td>b</td>\n",
       "      <td>cdbd</td>\n",
       "    </tr>\n",
       "    <tr>\n",
       "      <th>823</th>\n",
       "      <td>d</td>\n",
       "      <td>dhcd</td>\n",
       "    </tr>\n",
       "    <tr>\n",
       "      <th>824</th>\n",
       "      <td>h</td>\n",
       "      <td>dhcd</td>\n",
       "    </tr>\n",
       "    <tr>\n",
       "      <th>825</th>\n",
       "      <td>c</td>\n",
       "      <td>dhcd</td>\n",
       "    </tr>\n",
       "    <tr>\n",
       "      <th>910</th>\n",
       "      <td>h</td>\n",
       "      <td>haa6</td>\n",
       "    </tr>\n",
       "    <tr>\n",
       "      <th>911</th>\n",
       "      <td>a</td>\n",
       "      <td>haa6</td>\n",
       "    </tr>\n",
       "    <tr>\n",
       "      <th>912</th>\n",
       "      <td>a</td>\n",
       "      <td>haa6</td>\n",
       "    </tr>\n",
       "    <tr>\n",
       "      <th>1109</th>\n",
       "      <td>m</td>\n",
       "      <td>mdn6</td>\n",
       "    </tr>\n",
       "    <tr>\n",
       "      <th>1110</th>\n",
       "      <td>d</td>\n",
       "      <td>mdn6</td>\n",
       "    </tr>\n",
       "    <tr>\n",
       "      <th>1111</th>\n",
       "      <td>n</td>\n",
       "      <td>mdn6</td>\n",
       "    </tr>\n",
       "    <tr>\n",
       "      <th>1328</th>\n",
       "      <td>x</td>\n",
       "      <td>xbnb</td>\n",
       "    </tr>\n",
       "    <tr>\n",
       "      <th>1329</th>\n",
       "      <td>b</td>\n",
       "      <td>xbnb</td>\n",
       "    </tr>\n",
       "    <tr>\n",
       "      <th>1330</th>\n",
       "      <td>n</td>\n",
       "      <td>xbnb</td>\n",
       "    </tr>\n",
       "    <tr>\n",
       "      <th>1407</th>\n",
       "      <td>x</td>\n",
       "      <td>xxxm</td>\n",
       "    </tr>\n",
       "    <tr>\n",
       "      <th>1408</th>\n",
       "      <td>x</td>\n",
       "      <td>xxxm</td>\n",
       "    </tr>\n",
       "    <tr>\n",
       "      <th>1409</th>\n",
       "      <td>x</td>\n",
       "      <td>xxxm</td>\n",
       "    </tr>\n",
       "  </tbody>\n",
       "</table>\n",
       "</div>"
      ],
      "text/plain": [
       "     label original_file\n",
       "48       6          6add\n",
       "49       a          6add\n",
       "50       d          6add\n",
       "291      7          7x6a\n",
       "292      x          7x6a\n",
       "293      6          7x6a\n",
       "586      c          ca7m\n",
       "587      a          ca7m\n",
       "588      7          ca7m\n",
       "629      c          cdbc\n",
       "630      d          cdbc\n",
       "631      b          cdbc\n",
       "632      c          cdbd\n",
       "633      d          cdbd\n",
       "634      b          cdbd\n",
       "823      d          dhcd\n",
       "824      h          dhcd\n",
       "825      c          dhcd\n",
       "910      h          haa6\n",
       "911      a          haa6\n",
       "912      a          haa6\n",
       "1109     m          mdn6\n",
       "1110     d          mdn6\n",
       "1111     n          mdn6\n",
       "1328     x          xbnb\n",
       "1329     b          xbnb\n",
       "1330     n          xbnb\n",
       "1407     x          xxxm\n",
       "1408     x          xxxm\n",
       "1409     x          xxxm"
      ]
     },
     "execution_count": 43,
     "metadata": {},
     "output_type": "execute_result"
    }
   ],
   "source": [
    "missing_files = contagem_audios[contagem_audios != 4].index\n",
    "training[training['original_file'].isin(missing_files) ] . loc[ : ,[\"label\",\"original_file\"]]"
   ]
  },
  {
   "cell_type": "code",
   "execution_count": 54,
   "metadata": {
    "scrolled": true
   },
   "outputs": [
    {
     "data": {
      "text/plain": [
       "<matplotlib.axes._subplots.AxesSubplot at 0x1bb98cf8>"
      ]
     },
     "execution_count": 54,
     "metadata": {},
     "output_type": "execute_result"
    },
    {
     "data": {
      "image/png": "[encoded data removed]",
      "text/plain": [
       "<Figure size 432x288 with 1 Axes>"
      ]
     },
     "metadata": {
      "needs_background": "light"
     },
     "output_type": "display_data"
    }
   ],
   "source": [
    "plt.title(\"Quantidade de Arquivos de Audio por Letra\", loc=\"left\", fontdict={'fontweight':\"bold\"})\n",
    "training.label.value_counts().plot(kind=\"bar\", rot=0)"
   ]
  },
  {
   "cell_type": "code",
   "execution_count": 53,
   "metadata": {},
   "outputs": [
    {
     "data": {
      "text/plain": [
       "b    155\n",
       "6    148\n",
       "m    146\n",
       "7    144\n",
       "x    138\n",
       "c    138\n",
       "d    137\n",
       "h    137\n",
       "n    136\n",
       "a    135\n",
       "Name: label, dtype: int64"
      ]
     },
     "execution_count": 53,
     "metadata": {},
     "output_type": "execute_result"
    }
   ],
   "source": [
    "training.label.value_counts()"
   ]
  },
  {
   "cell_type": "code",
   "execution_count": 11,
   "metadata": {},
   "outputs": [],
   "source": [
    "def extract_features_and_labels(df):\n",
    "    features = df.iloc[ : , df.columns.get_loc(0): ]\n",
    "    labels = df.loc[ : , \"label\"]\n",
    "    return(features, labels)"
   ]
  },
  {
   "cell_type": "code",
   "execution_count": 67,
   "metadata": {},
   "outputs": [],
   "source": [
    "train, test = sklearn.model_selection.train_test_split(training,\n",
    "                                                 test_size=0.3, \n",
    "                                                 random_state=seed )\n",
    "\n",
    "x_train, y_train = extract_features_and_labels(train)\n",
    "x_test, y_test = extract_features_and_labels(test)"
   ]
  },
  {
   "cell_type": "code",
   "execution_count": 68,
   "metadata": {},
   "outputs": [],
   "source": [
    "# Encoding train\n",
    "label_encoder = sklearn.preprocessing.LabelEncoder()\n",
    "label_encoder.fit(np.concatenate((y_train, y_test), axis=0))\n",
    "y_train_int = label_encoder.transform(y_train)\n",
    "y_test_int = label_encoder.transform(y_test)\n",
    "#one_hot_encoder = sklearn.preprocessing.OneHotEncoder(sparse=False)"
   ]
  },
  {
   "cell_type": "code",
   "execution_count": 69,
   "metadata": {},
   "outputs": [
    {
     "name": "stderr",
     "output_type": "stream",
     "text": [
      "D:\\program_files\\Miniconda3\\envs\\md\\lib\\site-packages\\sklearn\\discriminant_analysis.py:388: UserWarning: Variables are collinear.\n",
      "  warnings.warn(\"Variables are collinear.\")\n"
     ]
    },
    {
     "data": {
      "text/plain": [
       "LinearDiscriminantAnalysis(n_components=None, priors=None, shrinkage=None,\n",
       "                           solver='svd', store_covariance=False, tol=0.0001)"
      ]
     },
     "execution_count": 69,
     "metadata": {},
     "output_type": "execute_result"
    }
   ],
   "source": [
    "# Using Linear Discriminant Analysis\n",
    "lda = sklearn.discriminant_analysis.LinearDiscriminantAnalysis()\n",
    "lda.fit(x_train, y_train_int)"
   ]
  },
  {
   "cell_type": "code",
   "execution_count": 70,
   "metadata": {},
   "outputs": [
    {
     "data": {
      "text/plain": [
       "0.9716885743174924"
      ]
     },
     "execution_count": 70,
     "metadata": {},
     "output_type": "execute_result"
    }
   ],
   "source": [
    "# Training Accuracy\n",
    "predicoes = lda.predict(x_train)\n",
    "corretas = np.equal(predicoes, y_train_int)\n",
    "erradas  = np.logical_not((corretas))\n",
    "\n",
    "n_corretas = sum(corretas)\n",
    "n_erradas = sum(erradas)\n",
    "\n",
    "n_corretas/(n_corretas+n_erradas)"
   ]
  },
  {
   "cell_type": "code",
   "execution_count": 71,
   "metadata": {},
   "outputs": [],
   "source": [
    "# Test Accuracy \n",
    "predicoes_lda = lda.predict(x_test)\n",
    "corretas = np.equal(predicoes_lda, y_test_int)\n",
    "erradas  = np.logical_not((corretas))\n",
    "\n",
    "n_corretas = sum(corretas)\n",
    "n_erradas = sum(erradas)\n",
    "\n"
   ]
  },
  {
   "cell_type": "code",
   "execution_count": 72,
   "metadata": {},
   "outputs": [
    {
     "name": "stdout",
     "output_type": "stream",
     "text": [
      "Acurácia do Linear Discriminant Analysis (Teste): 10.12%\n"
     ]
    }
   ],
   "source": [
    "print(f\"Acurácia do Linear Discriminant Analysis (Teste): {100*n_corretas/(n_corretas+n_erradas):.2f}%\")"
   ]
  },
  {
   "cell_type": "code",
   "execution_count": 73,
   "metadata": {},
   "outputs": [
    {
     "data": {
      "text/plain": [
       "GaussianNB(priors=None, var_smoothing=1e-09)"
      ]
     },
     "execution_count": 73,
     "metadata": {},
     "output_type": "execute_result"
    }
   ],
   "source": [
    "# Using naive bayes\n",
    "nb  =  sklearn.naive_bayes.GaussianNB()\n",
    "nb.fit(x_train, y_train_int)"
   ]
  },
  {
   "cell_type": "code",
   "execution_count": 74,
   "metadata": {},
   "outputs": [],
   "source": [
    "# Training Accuracy\n",
    "predicoes = nb.predict(x_train)\n",
    "corretas = np.equal(predicoes, y_train_int)\n",
    "erradas  = np.logical_not((corretas))\n",
    "\n",
    "n_corretas = sum(corretas)\n",
    "n_erradas = sum(erradas)"
   ]
  },
  {
   "cell_type": "code",
   "execution_count": 75,
   "metadata": {},
   "outputs": [
    {
     "data": {
      "text/plain": [
       "0.11294117647058824"
      ]
     },
     "execution_count": 75,
     "metadata": {},
     "output_type": "execute_result"
    }
   ],
   "source": [
    "# Test Accuracy \n",
    "predicoes_nb = nb.predict(x_test)\n",
    "corretas = np.equal(predicoes_nb, y_test_int)\n",
    "erradas  = np.logical_not((corretas))\n",
    "\n",
    "n_corretas = sum(corretas)\n",
    "n_erradas = sum(erradas)\n",
    "\n",
    "n_corretas/(n_corretas+n_erradas)"
   ]
  },
  {
   "cell_type": "code",
   "execution_count": 76,
   "metadata": {},
   "outputs": [
    {
     "name": "stdout",
     "output_type": "stream",
     "text": [
      "Acurácia do Naive Bayes (Teste): 11.29%\n"
     ]
    }
   ],
   "source": [
    "print(f\"Acurácia do Naive Bayes (Teste): {100*n_corretas/(n_corretas+n_erradas):.2f}%\")"
   ]
  }
 ],
 "metadata": {
  "kernelspec": {
   "display_name": "Python 3",
   "language": "python",
   "name": "python3"
  },
  "language_info": {
   "codemirror_mode": {
    "name": "ipython",
    "version": 3
   },
   "file_extension": ".py",
   "mimetype": "text/x-python",
   "name": "python",
   "nbconvert_exporter": "python",
   "pygments_lexer": "ipython3",
   "version": "3.6.7"
  }
 },
 "nbformat": 4,
 "nbformat_minor": 2
}

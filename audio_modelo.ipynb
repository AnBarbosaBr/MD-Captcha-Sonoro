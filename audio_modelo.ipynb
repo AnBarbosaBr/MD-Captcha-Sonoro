{
 "cells": [
  {
   "cell_type": "code",
   "execution_count": 90,
   "metadata": {},
   "outputs": [],
   "source": [
    "# Importings base libraries\n",
    "import os;\n",
    "import pandas as pd; \n",
    "import numpy as np;\n",
    "import librosa;\n",
    "import librosa.display\n",
    "import IPython.display as ipd\n",
    "import matplotlib.pyplot as plt\n",
    "%matplotlib inline\n",
    "\n",
    "# Models\n",
    "import sklearn.model_selection # train_test_split\n",
    "import sklearn.discriminant_analysis # LinearDiscriminantAnalysis\n",
    "import sklearn.naive_bayes  # GaussianNB\n",
    "\n",
    "seed = 42"
   ]
  },
  {
   "cell_type": "code",
   "execution_count": 2,
   "metadata": {},
   "outputs": [],
   "source": [
    "# Working with data - Those functions are helpers to work with the final DataFrame\n",
    "\n",
    "def get_audio_and_sampling_rate_from_df(df, row_index, asNumpyArray = True ):\n",
    "    data, sampling_rate, label = get_data_sample_rate_and_legend_from_df(df, row_index, asNumpyArray)\n",
    "    return(data, sampling_rate)\n",
    "\n",
    "def get_data_sampling_rate_and_legend_from_df(df, row_index, asNumpyArray = True):\n",
    "    data = df.iloc[ row_index , df.columns.get_loc(0): ].astype('float64')\n",
    "    if(asNumpyArray):\n",
    "        data = data.values\n",
    "    sample_rate = df.loc[: , \"sr\"].iloc[row_index]\n",
    "    label = df.loc[ : , 'label'].iloc[row_index]\n",
    "    return(data, sample_rate, label)\n",
    "    \n",
    "def show_data(df, row):\n",
    "    # Retrieve information from DF\n",
    "    audio_data, sampling_rate, label = get_data_sample_rate_and_legend_from_df(df, row)\n",
    "    \n",
    "    # Print some stats and display the sound\n",
    "    print(f\"{label}({librosa.get_duration(audio_data, sr=sampling_rate)} sec)\")\n",
    "    ipd.display(ipd.Audio(audio_data, rate=sampling_rate))\n",
    "    \n",
    "    print(\"\\n\")\n",
    "    # Make plots\n",
    "    X = librosa.stft(audio_data)\n",
    "    Xdb = librosa.amplitude_to_db(abs(X))\n",
    "\n",
    "    plt.figure(figsize=(8, 16), dpi= 80, facecolor='w', edgecolor='k')\n",
    "\n",
    "    plt.subplot(3, 1, 1)\n",
    "    plt.title(\"Wave\")\n",
    "    librosa.display.waveplot(audio_data, sr=sampling_rate, x_axis=\"time\")\n",
    "\n",
    "    plt.subplot(3, 1, 2)\n",
    "    plt.title(\"MEL\")\n",
    "    librosa.display.specshow(Xdb, sr=sampling_rate, x_axis=\"time\", y_axis=\"mel\")\n",
    "\n",
    "    plt.subplot(3, 1, 3)\n",
    "    plt.title(\"HZ\")\n",
    "    librosa.display.specshow(Xdb, sr=sampling_rate, x_axis=\"time\", y_axis=\"hz\")\n",
    "\n",
    "    print(\"Audio\")\n",
    "    ipd.Audio(audio_data, rate = sampling_rate)"
   ]
  },
  {
   "cell_type": "code",
   "execution_count": 3,
   "metadata": {},
   "outputs": [],
   "source": [
    "# Will read from the pickle file - use ingestion when ready\n",
    "training_data_path   = os.path.join(\".\",\"dados\",\"training_data.pickle\")\n",
    "validation_data_path = os.path.join(\".\",\"dados\",\"validation_data.pickle\")"
   ]
  },
  {
   "cell_type": "code",
   "execution_count": 4,
   "metadata": {},
   "outputs": [],
   "source": [
    "# Will read only part of the data\n",
    "training = pd.read_pickle(training_data_path).sample(1000, random_state = seed)"
   ]
  },
  {
   "cell_type": "code",
   "execution_count": 5,
   "metadata": {
    "scrolled": true
   },
   "outputs": [
    {
     "data": {
      "text/plain": [
       "(1000, 88204)"
      ]
     },
     "execution_count": 5,
     "metadata": {},
     "output_type": "execute_result"
    }
   ],
   "source": [
    "training.shape"
   ]
  },
  {
   "cell_type": "code",
   "execution_count": 11,
   "metadata": {},
   "outputs": [
    {
     "name": "stdout",
     "output_type": "stream",
     "text": [
      "Shape: (1000, 88204) \n",
      "Número de Audios: 1000 \n",
      "Número de Audios/4: 250.0\n",
      "Numero De Arquivos Lidos: 352\n",
      "Sample Rates: [44100]\n"
     ]
    }
   ],
   "source": [
    "print(f\"Shape: {training.shape} \\n\"+\n",
    "      f\"Número de Audios: {training.shape[0]} \\n\"+\n",
    "      f\"Número de Audios/4: {training.shape[0]/4}\\n\" +\n",
    "      f\"Numero De Arquivos Lidos: {len(training.original_file.unique())}\\n\"+\n",
    "      f\"Sample Rates: {training.sr.unique()}\")\n"
   ]
  },
  {
   "cell_type": "code",
   "execution_count": 7,
   "metadata": {},
   "outputs": [
    {
     "data": {
      "text/html": [
       "<div>\n",
       "<style scoped>\n",
       "    .dataframe tbody tr th:only-of-type {\n",
       "        vertical-align: middle;\n",
       "    }\n",
       "\n",
       "    .dataframe tbody tr th {\n",
       "        vertical-align: top;\n",
       "    }\n",
       "\n",
       "    .dataframe thead th {\n",
       "        text-align: right;\n",
       "    }\n",
       "</style>\n",
       "<table border=\"1\" class=\"dataframe\">\n",
       "  <thead>\n",
       "    <tr style=\"text-align: right;\">\n",
       "      <th></th>\n",
       "      <th>label</th>\n",
       "      <th>duracao</th>\n",
       "      <th>sr</th>\n",
       "      <th>original_file</th>\n",
       "      <th>0</th>\n",
       "      <th>1</th>\n",
       "      <th>2</th>\n",
       "      <th>3</th>\n",
       "      <th>4</th>\n",
       "      <th>5</th>\n",
       "      <th>...</th>\n",
       "      <th>88190</th>\n",
       "      <th>88191</th>\n",
       "      <th>88192</th>\n",
       "      <th>88193</th>\n",
       "      <th>88194</th>\n",
       "      <th>88195</th>\n",
       "      <th>88196</th>\n",
       "      <th>88197</th>\n",
       "      <th>88198</th>\n",
       "      <th>88199</th>\n",
       "    </tr>\n",
       "  </thead>\n",
       "  <tbody>\n",
       "    <tr>\n",
       "      <th>812</th>\n",
       "      <td>d</td>\n",
       "      <td>2.0</td>\n",
       "      <td>44100</td>\n",
       "      <td>ddam</td>\n",
       "      <td>-0.003235</td>\n",
       "      <td>-0.003296</td>\n",
       "      <td>-0.003326</td>\n",
       "      <td>-0.003296</td>\n",
       "      <td>-0.003143</td>\n",
       "      <td>-0.002930</td>\n",
       "      <td>...</td>\n",
       "      <td>-0.000290</td>\n",
       "      <td>-0.000244</td>\n",
       "      <td>-0.000610</td>\n",
       "      <td>-0.000336</td>\n",
       "      <td>-0.000275</td>\n",
       "      <td>-0.000336</td>\n",
       "      <td>-0.000031</td>\n",
       "      <td>-0.000549</td>\n",
       "      <td>-0.000671</td>\n",
       "      <td>-0.000046</td>\n",
       "    </tr>\n",
       "    <tr>\n",
       "      <th>916</th>\n",
       "      <td>m</td>\n",
       "      <td>2.0</td>\n",
       "      <td>44100</td>\n",
       "      <td>hacm</td>\n",
       "      <td>-0.000946</td>\n",
       "      <td>-0.001099</td>\n",
       "      <td>-0.000916</td>\n",
       "      <td>-0.000916</td>\n",
       "      <td>-0.001068</td>\n",
       "      <td>-0.000854</td>\n",
       "      <td>...</td>\n",
       "      <td>-0.000351</td>\n",
       "      <td>-0.000397</td>\n",
       "      <td>0.000854</td>\n",
       "      <td>0.001007</td>\n",
       "      <td>0.000488</td>\n",
       "      <td>0.000000</td>\n",
       "      <td>-0.000809</td>\n",
       "      <td>-0.000626</td>\n",
       "      <td>-0.000198</td>\n",
       "      <td>-0.000305</td>\n",
       "    </tr>\n",
       "    <tr>\n",
       "      <th>339</th>\n",
       "      <td>a</td>\n",
       "      <td>2.0</td>\n",
       "      <td>44100</td>\n",
       "      <td>aan7</td>\n",
       "      <td>0.000000</td>\n",
       "      <td>0.000000</td>\n",
       "      <td>0.000000</td>\n",
       "      <td>0.000000</td>\n",
       "      <td>0.000000</td>\n",
       "      <td>0.000000</td>\n",
       "      <td>...</td>\n",
       "      <td>-0.003555</td>\n",
       "      <td>-0.002136</td>\n",
       "      <td>-0.002487</td>\n",
       "      <td>-0.002838</td>\n",
       "      <td>-0.002838</td>\n",
       "      <td>-0.003220</td>\n",
       "      <td>-0.002502</td>\n",
       "      <td>-0.003204</td>\n",
       "      <td>-0.003220</td>\n",
       "      <td>-0.002121</td>\n",
       "    </tr>\n",
       "    <tr>\n",
       "      <th>192</th>\n",
       "      <td>b</td>\n",
       "      <td>2.0</td>\n",
       "      <td>44100</td>\n",
       "      <td>7bbb</td>\n",
       "      <td>0.000824</td>\n",
       "      <td>0.001465</td>\n",
       "      <td>0.000931</td>\n",
       "      <td>0.001938</td>\n",
       "      <td>0.001358</td>\n",
       "      <td>0.000748</td>\n",
       "      <td>...</td>\n",
       "      <td>-0.000061</td>\n",
       "      <td>-0.000031</td>\n",
       "      <td>-0.000046</td>\n",
       "      <td>-0.000031</td>\n",
       "      <td>-0.000031</td>\n",
       "      <td>-0.000031</td>\n",
       "      <td>-0.000031</td>\n",
       "      <td>0.000000</td>\n",
       "      <td>-0.000015</td>\n",
       "      <td>-0.000031</td>\n",
       "    </tr>\n",
       "    <tr>\n",
       "      <th>203</th>\n",
       "      <td>7</td>\n",
       "      <td>2.0</td>\n",
       "      <td>44100</td>\n",
       "      <td>7cad</td>\n",
       "      <td>-0.004166</td>\n",
       "      <td>-0.004044</td>\n",
       "      <td>-0.004074</td>\n",
       "      <td>-0.004501</td>\n",
       "      <td>-0.005249</td>\n",
       "      <td>-0.004303</td>\n",
       "      <td>...</td>\n",
       "      <td>0.000061</td>\n",
       "      <td>-0.000046</td>\n",
       "      <td>0.000000</td>\n",
       "      <td>0.000015</td>\n",
       "      <td>-0.000031</td>\n",
       "      <td>0.000000</td>\n",
       "      <td>-0.000031</td>\n",
       "      <td>-0.000153</td>\n",
       "      <td>-0.000092</td>\n",
       "      <td>-0.000061</td>\n",
       "    </tr>\n",
       "  </tbody>\n",
       "</table>\n",
       "<p>5 rows × 88204 columns</p>\n",
       "</div>"
      ],
      "text/plain": [
       "    label  duracao     sr original_file         0         1         2  \\\n",
       "812     d      2.0  44100          ddam -0.003235 -0.003296 -0.003326   \n",
       "916     m      2.0  44100          hacm -0.000946 -0.001099 -0.000916   \n",
       "339     a      2.0  44100          aan7  0.000000  0.000000  0.000000   \n",
       "192     b      2.0  44100          7bbb  0.000824  0.001465  0.000931   \n",
       "203     7      2.0  44100          7cad -0.004166 -0.004044 -0.004074   \n",
       "\n",
       "            3         4         5  ...     88190     88191     88192  \\\n",
       "812 -0.003296 -0.003143 -0.002930  ... -0.000290 -0.000244 -0.000610   \n",
       "916 -0.000916 -0.001068 -0.000854  ... -0.000351 -0.000397  0.000854   \n",
       "339  0.000000  0.000000  0.000000  ... -0.003555 -0.002136 -0.002487   \n",
       "192  0.001938  0.001358  0.000748  ... -0.000061 -0.000031 -0.000046   \n",
       "203 -0.004501 -0.005249 -0.004303  ...  0.000061 -0.000046  0.000000   \n",
       "\n",
       "        88193     88194     88195     88196     88197     88198     88199  \n",
       "812 -0.000336 -0.000275 -0.000336 -0.000031 -0.000549 -0.000671 -0.000046  \n",
       "916  0.001007  0.000488  0.000000 -0.000809 -0.000626 -0.000198 -0.000305  \n",
       "339 -0.002838 -0.002838 -0.003220 -0.002502 -0.003204 -0.003220 -0.002121  \n",
       "192 -0.000031 -0.000031 -0.000031 -0.000031  0.000000 -0.000015 -0.000031  \n",
       "203  0.000015 -0.000031  0.000000 -0.000031 -0.000153 -0.000092 -0.000061  \n",
       "\n",
       "[5 rows x 88204 columns]"
      ]
     },
     "execution_count": 7,
     "metadata": {},
     "output_type": "execute_result"
    }
   ],
   "source": [
    "training.head()"
   ]
  },
  {
   "cell_type": "code",
   "execution_count": 21,
   "metadata": {
    "scrolled": false
   },
   "outputs": [
    {
     "data": {
      "text/plain": [
       "<matplotlib.axes._subplots.AxesSubplot at 0xef4bd30>"
      ]
     },
     "execution_count": 21,
     "metadata": {},
     "output_type": "execute_result"
    },
    {
     "data": {
      "image/png": "[encoded data removed]",
      "text/plain": [
       "<Figure size 432x288 with 1 Axes>"
      ]
     },
     "metadata": {
      "needs_background": "light"
     },
     "output_type": "display_data"
    }
   ],
   "source": [
    "training.groupby(\"label\")[\"label\"].count().plot(kind=\"bar\", rot=0)"
   ]
  },
  {
   "cell_type": "code",
   "execution_count": 79,
   "metadata": {},
   "outputs": [],
   "source": [
    "def extract_features_and_labels(df):\n",
    "    features = df.iloc[ : , training_data.columns.get_loc(0): ]\n",
    "    labels = df.loc[ : , \"label\"]\n",
    "    return(features, labels)"
   ]
  },
  {
   "cell_type": "code",
   "execution_count": 80,
   "metadata": {},
   "outputs": [],
   "source": [
    "train, test = sklearn.model_selection.train_test_split(training_data,\n",
    "                                                 test_size=800, \n",
    "                                                 random_state=seed )\n",
    "\n",
    "x_train, y_train = extract_features_and_labels(train)\n",
    "x_test, y_test = extract_features_and_labels(test)"
   ]
  },
  {
   "cell_type": "code",
   "execution_count": 118,
   "metadata": {},
   "outputs": [],
   "source": [
    "# Encoding train\n",
    "label_encoder = sklearn.preprocessing.LabelEncoder()\n",
    "label_encoder.fit(np.concatenate((y_train, y_test), axis=0))\n",
    "y_train_int = label_encoder.transform(y_train)\n",
    "y_test_int = label_encoder.transform(y_test)\n",
    "#one_hot_encoder = sklearn.preprocessing.OneHotEncoder(sparse=False)"
   ]
  },
  {
   "cell_type": "code",
   "execution_count": 70,
   "metadata": {},
   "outputs": [],
   "source": [
    "# Using Linear Discriminant Analysis\n",
    "lda = sklearn.discriminant_analysis.LinearDiscriminantAnalysis()\n",
    "lda.fit(x_train, y_train_int)"
   ]
  },
  {
   "cell_type": "code",
   "execution_count": 156,
   "metadata": {},
   "outputs": [
    {
     "data": {
      "text/plain": [
       "0.95"
      ]
     },
     "execution_count": 156,
     "metadata": {},
     "output_type": "execute_result"
    }
   ],
   "source": [
    "# Training Accuracy\n",
    "predicoes = lda.predict(x_train)\n",
    "corretas = np.equal(predicoes, y_train_int)\n",
    "erradas  = np.logical_not((corretas))\n",
    "\n",
    "n_corretas = sum(corretas)\n",
    "n_erradas = sum(erradas)\n",
    "\n",
    "n_corretas/(n_corretas+n_erradas)"
   ]
  },
  {
   "cell_type": "code",
   "execution_count": 161,
   "metadata": {},
   "outputs": [
    {
     "data": {
      "text/plain": [
       "0.105"
      ]
     },
     "execution_count": 161,
     "metadata": {},
     "output_type": "execute_result"
    }
   ],
   "source": [
    "# Test Accuracy \n",
    "predicoes_lda = lda.predict(x_test)\n",
    "corretas = np.equal(predicoes_lda, y_test_int)\n",
    "erradas  = np.logical_not((corretas))\n",
    "\n",
    "n_corretas = sum(corretas)\n",
    "n_erradas = sum(erradas)\n",
    "\n",
    "n_corretas/(n_corretas+n_erradas)"
   ]
  },
  {
   "cell_type": "code",
   "execution_count": 157,
   "metadata": {},
   "outputs": [
    {
     "data": {
      "text/plain": [
       "GaussianNB(priors=None, var_smoothing=1e-09)"
      ]
     },
     "execution_count": 157,
     "metadata": {},
     "output_type": "execute_result"
    }
   ],
   "source": [
    "# Using naive bayes\n",
    "nb  =  sklearn.naive_bayes.GaussianNB()\n",
    "nb.fit(x_train, y_train_int)"
   ]
  },
  {
   "cell_type": "code",
   "execution_count": 158,
   "metadata": {},
   "outputs": [
    {
     "data": {
      "text/plain": [
       "0.51"
      ]
     },
     "execution_count": 158,
     "metadata": {},
     "output_type": "execute_result"
    }
   ],
   "source": [
    "# Training Accuracy\n",
    "predicoes = nb.predict(x_train)\n",
    "corretas = np.equal(predicoes, y_train_int)\n",
    "erradas  = np.logical_not((corretas))\n",
    "\n",
    "n_corretas = sum(corretas)\n",
    "n_erradas = sum(erradas)\n",
    "\n",
    "n_corretas/(n_corretas+n_erradas)"
   ]
  },
  {
   "cell_type": "code",
   "execution_count": 160,
   "metadata": {},
   "outputs": [
    {
     "data": {
      "text/plain": [
       "0.0975"
      ]
     },
     "execution_count": 160,
     "metadata": {},
     "output_type": "execute_result"
    }
   ],
   "source": [
    "# Test Accuracy \n",
    "predicoes_nb = nb.predict(x_test)\n",
    "corretas = np.equal(predicoes_nb, y_test_int)\n",
    "erradas  = np.logical_not((corretas))\n",
    "\n",
    "n_corretas = sum(corretas)\n",
    "n_erradas = sum(erradas)\n",
    "\n",
    "n_corretas/(n_corretas+n_erradas)"
   ]
  },
  {
   "cell_type": "code",
   "execution_count": 168,
   "metadata": {},
   "outputs": [],
   "source": [
    "iguais = np.equal(predicoes_nb, predicoes_lda)\n",
    "naives_corretas = np.equal(predicoes_nb, y_test_int)\n",
    "iguais_corretas = np.logical_and(iguais, naives_corretas)"
   ]
  },
  {
   "cell_type": "code",
   "execution_count": null,
   "metadata": {},
   "outputs": [],
   "source": []
  }
 ],
 "metadata": {
  "kernelspec": {
   "display_name": "Python 3",
   "language": "python",
   "name": "python3"
  },
  "language_info": {
   "codemirror_mode": {
    "name": "ipython",
    "version": 3
   },
   "file_extension": ".py",
   "mimetype": "text/x-python",
   "name": "python",
   "nbconvert_exporter": "python",
   "pygments_lexer": "ipython3",
   "version": "3.6.7"
  }
 },
 "nbformat": 4,
 "nbformat_minor": 2
}
